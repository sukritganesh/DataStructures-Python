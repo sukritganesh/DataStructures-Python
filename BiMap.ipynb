{
  "nbformat": 4,
  "nbformat_minor": 0,
  "metadata": {
    "colab": {
      "name": "BiMap",
      "provenance": [],
      "collapsed_sections": [],
      "authorship_tag": "ABX9TyM78rFWgZ6c1izugxeaz+ve",
      "include_colab_link": true
    },
    "kernelspec": {
      "name": "python3",
      "display_name": "Python 3"
    }
  },
  "cells": [
    {
      "cell_type": "markdown",
      "metadata": {
        "id": "view-in-github",
        "colab_type": "text"
      },
      "source": [
        "<a href=\"https://colab.research.google.com/github/sukritganesh/DataStructures-Python/blob/main/BiMap.ipynb\" target=\"_parent\"><img src=\"https://colab.research.google.com/assets/colab-badge.svg\" alt=\"Open In Colab\"/></a>"
      ]
    },
    {
      "cell_type": "markdown",
      "metadata": {
        "id": "3tlh4PrNCPwN"
      },
      "source": [
        "The bimap data structure is a one-to-one python dictionary where an element maps to another distinct element, which also maps back to the first element."
      ]
    },
    {
      "cell_type": "code",
      "metadata": {
        "id": "t3VqLPy0Bs6R"
      },
      "source": [
        "class BiMap:\n",
        "\n",
        "  def __init__(self):\n",
        "    self.dict1 = {}\n",
        "    self.dict2 = {}\n",
        "\n",
        "  def insert(self, a, b):\n",
        "    if (a in self.dict1):\n",
        "      self.dict2.pop(self.dict1[a])\n",
        "      self.dict1.pop(a)\n",
        "    elif (b in self.dict1):\n",
        "      self.dict2.pop(self.dict1[b])\n",
        "      self.dict1.pop(b)\n",
        "    elif (a in self.dict2):\n",
        "      self.dict1.pop(self.dict2[a])\n",
        "      self.dict2.pop(a)\n",
        "    elif (b in self.dict2):\n",
        "      self.dict1.pop(self.dict2[b])\n",
        "      self.dict2.pop(b)\n",
        "    \n",
        "    self.dict1[a] = b\n",
        "    self.dict2[b] = a\n",
        "\n",
        "  def __getitem__(self, key):\n",
        "    try:\n",
        "      if key in self.dict1:\n",
        "        return self.dict1[key]\n",
        "      return self.dict2[key]\n",
        "    except:\n",
        "      raise\n",
        "\n",
        "  def __contains__(self, key):\n",
        "    return ((key in self.dict1) or (key in self.dict2))\n",
        "\n",
        "  def __len__(self):\n",
        "    return len(self.dict1)\n",
        "\n",
        "  def __str__(self):\n",
        "    st = '['\n",
        "    for k in self.dict1:\n",
        "      st += ('(' + str(k) + ', ' + str(self.dict1[k]) + '), ')\n",
        "    if (st != '['):\n",
        "      return st[:-2] + ']'\n",
        "    return '[]'\n",
        "\n",
        "  # returns list of tuples\n",
        "  def toTuple(self):\n",
        "    tt = []\n",
        "    for k in self.dict1:\n",
        "      tt.append((k, self.dict1[k]))\n",
        "    return tt\n",
        "\n",
        "  # returns list of lists\n",
        "  def toList(self):\n",
        "    ll = []\n",
        "    for k in self.dict1:\n",
        "      ll.append([k, self.dict1[k]])\n",
        "    return ll"
      ],
      "execution_count": 47,
      "outputs": []
    },
    {
      "cell_type": "code",
      "metadata": {
        "id": "HXbCHM1EFu9M",
        "outputId": "6f381a9c-9945-481e-dd01-418557d8d64d",
        "colab": {
          "base_uri": "https://localhost:8080/",
          "height": 210
        }
      },
      "source": [
        "myMap = BiMap()\n",
        "\n",
        "print('MyMap:', myMap)\n",
        "myMap.insert(1, 2)\n",
        "myMap.insert(3, 4)\n",
        "print('Length:', len(myMap))\n",
        "print(myMap[1])\n",
        "print(myMap[2])\n",
        "myMap.insert(2, 10)\n",
        "print(myMap[2])\n",
        "print(myMap[10])\n",
        "print('Length:', len(myMap))\n",
        "print('Should give error:', end=' ')\n",
        "try:\n",
        "  print(myMap[1])\n",
        "except:\n",
        "  print(KeyError)\n",
        "print('MyMap:', myMap)\n",
        "print('Tuple Format:', myMap.toTuple())\n",
        "print('List Format:', myMap.toList())"
      ],
      "execution_count": 48,
      "outputs": [
        {
          "output_type": "stream",
          "text": [
            "MyMap: []\n",
            "Length: 2\n",
            "2\n",
            "1\n",
            "10\n",
            "2\n",
            "Length: 2\n",
            "Should give error: <class 'KeyError'>\n",
            "MyMap: [(3, 4), (2, 10)]\n",
            "Tuple Format: [(3, 4), (2, 10)]\n",
            "List Format: [[3, 4], [2, 10]]\n"
          ],
          "name": "stdout"
        }
      ]
    }
  ]
}